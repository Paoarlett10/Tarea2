{
  "nbformat": 4,
  "nbformat_minor": 0,
  "metadata": {
    "colab": {
      "provenance": [],
      "authorship_tag": "ABX9TyMysz4EZAlcuDJidhhH75cF",
      "include_colab_link": true
    },
    "kernelspec": {
      "name": "python3",
      "display_name": "Python 3"
    },
    "language_info": {
      "name": "python"
    }
  },
  "cells": [
    {
      "cell_type": "markdown",
      "metadata": {
        "id": "view-in-github",
        "colab_type": "text"
      },
      "source": [
        "<a href=\"https://colab.research.google.com/github/Paoarlett10/Tarea2/blob/main/ejercicio25.ipynb\" target=\"_parent\"><img src=\"https://colab.research.google.com/assets/colab-badge.svg\" alt=\"Open In Colab\"/></a>"
      ]
    },
    {
      "cell_type": "markdown",
      "source": [
        "#Ejercicio 25.\n",
        "Vazquez Jimenez Arlett Paola / 320162033"
      ],
      "metadata": {
        "id": "Zdd-FCxn_6el"
      }
    },
    {
      "cell_type": "markdown",
      "source": [
        "**a)  A = LLᵀ , L triangular inferior.**"
      ],
      "metadata": {
        "id": "Yq5m9DWDDFqF"
      }
    },
    {
      "cell_type": "code",
      "source": [
        "# Importar librerías necesarias\n",
        "import numpy as np\n",
        "from numpy import linalg as LA\n",
        "\n",
        "# Función de Sustitución hacia adelante (resolver Ly = b)\n",
        "def SustDelante(L, b):\n",
        "    x = np.zeros_like(b)          # Inicializamos el vector solución con ceros\n",
        "    n = L.shape[0]                # Número de filas de L\n",
        "\n",
        "    for i in range(n):            # Recorremos cada fila\n",
        "        suma = 0.0\n",
        "        for j in range(i):         # Calculamos la suma de los productos L[i,j] * x[j]\n",
        "            suma += L[i, j] * x[j]\n",
        "        x[i] = (b[i] - suma) / L[i, i]   # Despejamos x[i]\n",
        "\n",
        "    return x\n",
        "\n",
        "# Función de Sustitución hacia atrás (resolver Ux = y)\n",
        "def SustAtras(U, y):\n",
        "    x = np.zeros_like(y)          # Inicializamos el vector solución con ceros\n",
        "    n = U.shape[0]                # Número de filas de U (matriz triangular superior)\n",
        "\n",
        "    # Resolvemos emepzando de atras o abajo hacia arriba\n",
        "    x[n-1] = y[n-1] / U[n-1, n-1]\n",
        "    for i in range(n-2, -1, -1):\n",
        "        suma = 0.0\n",
        "        for j in range(i+1, n):    # Calculamos la suma de los productos U[i,j] * x[j]\n",
        "            suma += U[i, j] * x[j]\n",
        "        x[i] = (y[i] - suma) / U[i, i]\n",
        "\n",
        "    return x\n",
        "\n",
        "# Función para realizar la factorización de Cholesky clásica (A = LLᵀ)\n",
        "def Cholesky(A):\n",
        "    n = A.shape[0]                # Número de filas/columnas de A\n",
        "    L = np.zeros_like(A)           # Inicializamos L como una matriz de ceros\n",
        "\n",
        "    for i in range(n):             # Recorrer filas\n",
        "        for j in range(i+1):       # Recorrer columnas hasta la diagonal\n",
        "            if i == j:             # Diagonal principal\n",
        "                suma = 0.0\n",
        "                for k in range(i):\n",
        "                    suma += L[i][k] * L[i][k]   # Suma de cuadrados de los elementos anteriores\n",
        "                L[i][i] = np.sqrt(A[i][i] - suma)   # Fórmula de la diagonal\n",
        "            else:                  # Parte inferior (debajo de la diagonal)\n",
        "                suma = 0.0\n",
        "                for k in range(j):\n",
        "                    suma += L[i][k] * L[j][k]   # Producto de elementos correspondientes\n",
        "                L[i][j] = (A[i][j] - suma) / L[j][j]  # Fórmula para los elementos debajo de la diagonal\n",
        "\n",
        "    return L\n",
        "\n",
        "# Función para resolver Ax = b usando la factorización de Cholesky\n",
        "def SolveChol(A, b):\n",
        "    L = Cholesky(A)               # Obtenemos L tal que A = LLᵀ\n",
        "    y = SustDelante(L, b)          # Resolvemos Ly = b\n",
        "    x = SustAtras(L.T, y)          # Resolvemos Lᵀx = y\n",
        "\n",
        "    return x\n",
        "\n",
        "# Definimos la matriz A y el vector b\n",
        "A = np.array([[6.0, 15.0, 55.0],\n",
        "              [15.0, 55.0, 225.0],\n",
        "              [55.0, 225.0, 979.0]])\n",
        "b = np.array([10., 20., 30.])\n",
        "\n",
        "# Resolvemos el sistema\n",
        "sol = SolveChol(A, b)\n",
        "\n",
        "# Imprimimos la solución\n",
        "print(\"Solución usando Cholesky LLᵀ\")\n",
        "print(sol)\n"
      ],
      "metadata": {
        "colab": {
          "base_uri": "https://localhost:8080/"
        },
        "id": "wZmCz71DJ1v1",
        "outputId": "523b462b-bfeb-4498-91ec-898c8e7e1526"
      },
      "execution_count": 69,
      "outputs": [
        {
          "output_type": "stream",
          "name": "stdout",
          "text": [
            "Solución usando Cholesky LLᵀ\n",
            "[-0.89285714  4.625      -0.98214286]\n"
          ]
        }
      ]
    },
    {
      "cell_type": "markdown",
      "source": [
        "**b) A = LDLᵀ , L triangular inferior, D diagonal.**"
      ],
      "metadata": {
        "id": "WKRz-ebwIQFs"
      }
    },
    {
      "cell_type": "code",
      "source": [
        "# Función para realizar la factorización de Cholesky modificada (A = L D Lᵀ)\n",
        "def Cholesky_LDLt(A):\n",
        "    n = A.shape[0]\n",
        "    L = np.eye(n)                   # Inicializamos L como matriz identidad\n",
        "    D = np.zeros(n)                 # Inicializamos D como vector de ceros (será la diagonal)\n",
        "\n",
        "    for i in range(n):\n",
        "        # Calculamos el valor de D[i] (diagonal de D)\n",
        "        suma_diagonal = sum(D[k] * (L[i, k]**2) for k in range(i))\n",
        "        D[i] = A[i, i] - suma_diagonal\n",
        "\n",
        "        # Calculamos los elementos debajo de la diagonal en L\n",
        "        for j in range(i+1, n):\n",
        "            suma_abajo = sum(D[k] * L[i, k] * L[j, k] for k in range(i))\n",
        "            L[j, i] = (A[j, i] - suma_abajo) / D[i]\n",
        "\n",
        "    return L, D\n",
        "\n",
        "# Función para resolver el sistema Ax = b usando la factorización LDLᵀ\n",
        "def Chol_LDLt(A, b):\n",
        "    L, D = Cholesky_LDLt(A)          # Factorizamos A en L, D\n",
        "    y = SustDelante(L, b)            # Resolvemos Ly = b (sustitución hacia adelante)\n",
        "    z = y / D                        # Resolvemos Dz = y\n",
        "    x = SustAtras(L.T, z)            # Resolvemos Lᵀx = z (sustitución hacia atrás)\n",
        "\n",
        "    return x\n",
        "\n",
        "# Calculamos la solución con LDLᵀ\n",
        "sol2 = Chol_LDLt(A, b)\n",
        "\n",
        "# Imprimimos la solución\n",
        "print(\"Solución usando Cholesky LDLᵀ:\")\n",
        "print(sol2)\n"
      ],
      "metadata": {
        "colab": {
          "base_uri": "https://localhost:8080/"
        },
        "id": "GrLbDZcyKiXw",
        "outputId": "a38541e0-f5a9-4878-9750-716992df19b7"
      },
      "execution_count": 70,
      "outputs": [
        {
          "output_type": "stream",
          "name": "stdout",
          "text": [
            "Solución usando Cholesky LDLᵀ:\n",
            "[-0.89285714  4.625      -0.98214286]\n"
          ]
        }
      ]
    },
    {
      "cell_type": "markdown",
      "source": [
        "**solucióin analítica**"
      ],
      "metadata": {
        "id": "Xnb6itsMIfrC"
      }
    },
    {
      "cell_type": "code",
      "execution_count": 71,
      "metadata": {
        "colab": {
          "base_uri": "https://localhost:8080/"
        },
        "id": "pQUXWC3b_x5g",
        "outputId": "41e71625-d34a-443b-bfce-08b7cef70546"
      },
      "outputs": [
        {
          "output_type": "stream",
          "name": "stdout",
          "text": [
            "Solucion Analitica\n",
            "[-0.89285714  4.625      -0.98214286]\n"
          ]
        }
      ],
      "source": [
        "y=LA.solve(A,b)\n",
        "print(\"Solucion Analitica\")\n",
        "print(y)"
      ]
    }
  ]
}