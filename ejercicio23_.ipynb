{
  "nbformat": 4,
  "nbformat_minor": 0,
  "metadata": {
    "colab": {
      "provenance": [],
      "authorship_tag": "ABX9TyPc5RPFItrVD3qRCfLqpoXL",
      "include_colab_link": true
    },
    "kernelspec": {
      "name": "python3",
      "display_name": "Python 3"
    },
    "language_info": {
      "name": "python"
    }
  },
  "cells": [
    {
      "cell_type": "markdown",
      "metadata": {
        "id": "view-in-github",
        "colab_type": "text"
      },
      "source": [
        "<a href=\"https://colab.research.google.com/github/Paoarlett10/Tarea2/blob/main/ejercicio23_.ipynb\" target=\"_parent\"><img src=\"https://colab.research.google.com/assets/colab-badge.svg\" alt=\"Open In Colab\"/></a>"
      ]
    },
    {
      "cell_type": "markdown",
      "source": [
        "#Ejercicio 23.\n",
        "Vazquez Jimenez Arlett Paola / 320162033"
      ],
      "metadata": {
        "id": "BaolG5cmMWKr"
      }
    },
    {
      "cell_type": "code",
      "execution_count": 11,
      "metadata": {
        "colab": {
          "base_uri": "https://localhost:8080/"
        },
        "id": "1zuKm90JMTdJ",
        "outputId": "94447874-eeca-409e-cf7d-6e7ced215525"
      },
      "outputs": [
        {
          "output_type": "stream",
          "name": "stdout",
          "text": [
            "\n",
            "Resultados de eliminación gaussiana sin pivoteo:\n",
            "\n",
            "1, ϵ=1.0e-02, solucion=[1. 1.]\n",
            "   error relativo 6.28e-16\n",
            "2, ϵ=1.0e-04, solucion=[1. 1.]\n",
            "   error relativo 7.79e-14\n",
            "3, ϵ=1.0e-06, solucion=[1. 1.]\n",
            "   error relativo 2.03e-11\n",
            "4, ϵ=1.0e-08, solucion=[0.99999999 1.        ]\n",
            "   error relativo 4.30e-09\n",
            "5, ϵ=1.0e-10, solucion=[1.00000008 1.        ]\n",
            "   error relativo 5.85e-08\n",
            "6, ϵ=1.0e-12, solucion=[0.99986686 1.        ]\n",
            "   error relativo 9.41e-05\n",
            "7, ϵ=1.0e-14, solucion=[0.99920072 1.        ]\n",
            "   error relativo 5.65e-04\n",
            "8, ϵ=1.0e-16, solucion=[2.22044605 1.        ]\n",
            "   error relativo 8.63e-01\n",
            "9, ϵ=1.0e-18, solucion=[0. 1.]\n",
            "   error relativo 7.07e-01\n",
            "10, ϵ=1.0e-20, solucion=[0. 1.]\n",
            "   error relativo 7.07e-01\n"
          ]
        }
      ],
      "source": [
        "import numpy as np\n",
        "\n",
        "# Función para hacer eliminación gaussiana sin pivoteo\n",
        "def EliminacionGauss(A, b):\n",
        "    A = A.copy()  # Copias para no modificar las originales\n",
        "    b = b.copy()\n",
        "    n = A.shape[0]  # Número de filas\n",
        "\n",
        "    # Eliminación hacia adelante\n",
        "    for k in range(n-1):\n",
        "        for i in range(k+1, n):\n",
        "            m = A[i,k]/A[k,k]  # Multiplicador\n",
        "            A[i,k:] = A[i,k:] - m*A[k,k:]\n",
        "            b[i] = b[i] - m*b[k]\n",
        "\n",
        "    # Sustitución hacia atrás\n",
        "    x = np.zeros(n)\n",
        "    x[-1] = b[-1]/A[-1,-1]\n",
        "    for i in range(n-2, -1, -1):\n",
        "        suma = np.dot(A[i,i+1:], x[i+1:])\n",
        "        x[i] = (b[i] - suma)/A[i,i]\n",
        "\n",
        "    return x\n",
        "\n",
        "# Solución exacta\n",
        "x_exacto = np.array([1.0, 1.0])\n",
        "\n",
        "# Guardar errores\n",
        "errores = []\n",
        "\n",
        "print(\"\\nResultados de eliminación gaussiana sin pivoteo:\\n\")\n",
        "for k in range(1, 11):\n",
        "    eps = 10**(-2*k)\n",
        "    # Definir A y b para este epsilon\n",
        "    A = np.array([[eps, 1.0],\n",
        "                  [1.0, 1.0]])\n",
        "    b = np.array([1.0 + eps, 2.0])\n",
        "\n",
        "    # Resolver sistema\n",
        "    x_sol = EliminacionGauss(A, b)\n",
        "\n",
        "    # Error relativo\n",
        "    error = np.linalg.norm(x_sol - x_exacto)/np.linalg.norm(x_exacto)\n",
        "    errores.append(error)\n",
        "\n",
        "    print(f\"{k}, ϵ={eps:.1e}, solucion={x_sol}\")\n",
        "    print(f\"   error relativo{error: .2e}\")\n",
        "\n",
        "\n"
      ]
    },
    {
      "cell_type": "markdown",
      "source": [
        "\n",
        "-Para ϵ no muy pequeño, el método funciona bien.\n",
        "\n",
        "-Conforme ϵ decrece, el sistema se vuelve muy mal condicionado y los errores numéricos crecen rápidamente.\n",
        "\n",
        "-Para valores de ϵ menores que 10**12 la solución ya no es tan confiable."
      ],
      "metadata": {
        "id": "ozesERrbWrFm"
      }
    }
  ]
}