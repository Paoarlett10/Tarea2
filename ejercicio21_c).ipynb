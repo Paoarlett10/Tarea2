{
  "nbformat": 4,
  "nbformat_minor": 0,
  "metadata": {
    "colab": {
      "provenance": [],
      "authorship_tag": "ABX9TyOby4Rpl20H9xrzWgDlYULa",
      "include_colab_link": true
    },
    "kernelspec": {
      "name": "python3",
      "display_name": "Python 3"
    },
    "language_info": {
      "name": "python"
    }
  },
  "cells": [
    {
      "cell_type": "markdown",
      "metadata": {
        "id": "view-in-github",
        "colab_type": "text"
      },
      "source": [
        "<a href=\"https://colab.research.google.com/github/Paoarlett10/Tarea2/blob/main/ejercicio21_c).ipynb\" target=\"_parent\"><img src=\"https://colab.research.google.com/assets/colab-badge.svg\" alt=\"Open In Colab\"/></a>"
      ]
    },
    {
      "cell_type": "markdown",
      "source": [
        "# Ejercicio 21.c)\n",
        "Vazquez Jimenez Arlett Paola / 320162033\n"
      ],
      "metadata": {
        "id": "Mesi4z0IoABC"
      }
    },
    {
      "cell_type": "markdown",
      "source": [
        "**Factorización LU**\n"
      ],
      "metadata": {
        "id": "4f0WURg2pfC8"
      }
    },
    {
      "cell_type": "code",
      "source": [
        "\n",
        "import numpy as np\n",
        "from numpy import linalg as LA"
      ],
      "metadata": {
        "id": "VoYbjX2QpeSc"
      },
      "execution_count": 2,
      "outputs": []
    },
    {
      "cell_type": "code",
      "execution_count": 16,
      "metadata": {
        "id": "lsLv97s9ntOQ",
        "colab": {
          "base_uri": "https://localhost:8080/"
        },
        "outputId": "6cbef3f0-9c32-4b5c-caef-564053b4da82"
      },
      "outputs": [
        {
          "output_type": "stream",
          "name": "stdout",
          "text": [
            "[[  4.   5.  -1.   2.   3.]\n",
            " [ 12.  13.   0.  10.   3.]\n",
            " [ -8.  -8.   5. -11.   4.]\n",
            " [ 16.  18.  -7.  20.   4.]\n",
            " [ -4.  -9.  31. -31.  -1.]]\n",
            "[[ 34.]\n",
            " [ 93.]\n",
            " [-33.]\n",
            " [131.]\n",
            " [-58.]]\n"
          ]
        }
      ],
      "source": [
        "#Inciso c)\n",
        "import numpy as np\n",
        "A=np.array([[4.,5.,-1.,2.,3.],[12.,13.,0.,10.,3.],[-8.,-8.,5.,-11.,4.],[16.,18.,-7.,20.,4.],[-4.,-9.,31.,-31.,-1.]])\n",
        "b=np.array([[34.],[93.],[-33.],[131.],[-58.]])\n",
        "print(A)\n",
        "print(b)"
      ]
    },
    {
      "cell_type": "code",
      "source": [
        "def SustitucionDelante(Mat, b):\n",
        "    n = Mat.shape[0]\n",
        "    x = np.zeros(n)\n",
        "\n",
        "    for i in range(n):\n",
        "        SumCum = 0.0\n",
        "        for j in range(i):\n",
        "            SumCum += Mat[i, j] * x[j]\n",
        "        x[i] = (b[i] - SumCum) / Mat[i, i]\n",
        "\n",
        "    return x"
      ],
      "metadata": {
        "id": "VgvOayu5rOqa"
      },
      "execution_count": 3,
      "outputs": []
    },
    {
      "cell_type": "code",
      "source": [
        "\n",
        "def SustitucionAtras(Mat, b):\n",
        "    n = Mat.shape[0]\n",
        "    x = np.zeros(n)\n",
        "\n",
        "    for i in range(n-1, -1, -1):\n",
        "        SumCum = 0.0\n",
        "        for j in range(i+1, n):\n",
        "            SumCum += Mat[i, j] * x[j]\n",
        "        x[i] = (b[i] - SumCum) / Mat[i, i]\n",
        "\n",
        "    return x\n"
      ],
      "metadata": {
        "id": "Ljsyv3TlrVNr"
      },
      "execution_count": 4,
      "outputs": []
    },
    {
      "cell_type": "code",
      "source": [
        "def LU(A):\n",
        "  U=np.copy(A)\n",
        "  L=np.eye(A.shape[0])\n",
        "\n",
        "  for i in range(A.shape[0]):\n",
        "    Li=np.eye(A.shape[0])\n",
        "    for j in range(i+1,A.shape[0]):\n",
        "      Li[j,i]=-U[j,i]/U[i,i]\n",
        "      L[j,i]=U[j,i]/U[i,i]\n",
        "    U=Li@U\n",
        "  return L,U"
      ],
      "metadata": {
        "id": "2NZhelgOrcdZ"
      },
      "execution_count": 5,
      "outputs": []
    },
    {
      "cell_type": "code",
      "source": [
        "\n",
        "def SolverLU(A,b):\n",
        "  L,U=LU(A)\n",
        "  # El sistema que se resuelve es Ly=b\n",
        "  y=SustitucionDelante(L, b)\n",
        "  # El sistema que se resuelve es Ux=y\n",
        "  x=SustitucionAtras(U, y)\n",
        "\n",
        "  return x"
      ],
      "metadata": {
        "id": "8qnMeCPxrpml"
      },
      "execution_count": 6,
      "outputs": []
    },
    {
      "cell_type": "code",
      "source": [
        "Sol=SolverLU(A,b)\n",
        "Sol"
      ],
      "metadata": {
        "colab": {
          "base_uri": "https://localhost:8080/"
        },
        "id": "iYw2WfeWrsUN",
        "outputId": "6e5e589d-964e-457c-d0c9-f0a70c3325b0"
      },
      "execution_count": 7,
      "outputs": [
        {
          "output_type": "stream",
          "name": "stderr",
          "text": [
            "<ipython-input-3-6e7392762ea7>:9: DeprecationWarning: Conversion of an array with ndim > 0 to a scalar is deprecated, and will error in future. Ensure you extract a single element from your array before performing this operation. (Deprecated NumPy 1.25.)\n",
            "  x[i] = (b[i] - SumCum) / Mat[i, i]\n"
          ]
        },
        {
          "output_type": "execute_result",
          "data": {
            "text/plain": [
              "array([1., 2., 3., 4., 5.])"
            ]
          },
          "metadata": {},
          "execution_count": 7
        }
      ]
    },
    {
      "cell_type": "code",
      "source": [
        "LA.solve(A,b)"
      ],
      "metadata": {
        "colab": {
          "base_uri": "https://localhost:8080/"
        },
        "id": "nQQWyEbAryAS",
        "outputId": "4e6be3f6-2cff-4c8e-99e7-19cfbebf3e27"
      },
      "execution_count": 8,
      "outputs": [
        {
          "output_type": "execute_result",
          "data": {
            "text/plain": [
              "array([[1.],\n",
              "       [2.],\n",
              "       [3.],\n",
              "       [4.],\n",
              "       [5.]])"
            ]
          },
          "metadata": {},
          "execution_count": 8
        }
      ]
    },
    {
      "cell_type": "markdown",
      "source": [
        "**Factorización LU con pivoteo parcial**\n"
      ],
      "metadata": {
        "id": "7m4E1KhOsgd-"
      }
    },
    {
      "cell_type": "code",
      "source": [
        "import numpy as np\n",
        "from numpy import linalg as LA\n",
        "A\n"
      ],
      "metadata": {
        "id": "7pQPX898smE3",
        "colab": {
          "base_uri": "https://localhost:8080/"
        },
        "outputId": "8dcc97c5-232e-4dcd-f9b8-5192f5394456"
      },
      "execution_count": 9,
      "outputs": [
        {
          "output_type": "execute_result",
          "data": {
            "text/plain": [
              "array([[  4.,   5.,  -1.,   2.,   3.],\n",
              "       [ 12.,  13.,   0.,  10.,   3.],\n",
              "       [ -8.,  -8.,   5., -11.,   4.],\n",
              "       [ 16.,  18.,  -7.,  20.,   4.],\n",
              "       [ -4.,  -9.,  31., -31.,  -1.]])"
            ]
          },
          "metadata": {},
          "execution_count": 9
        }
      ]
    },
    {
      "cell_type": "code",
      "source": [
        "\n",
        "A[[0,3]]=A[[3,0]]\n",
        "A"
      ],
      "metadata": {
        "colab": {
          "base_uri": "https://localhost:8080/"
        },
        "id": "0yHwACWPvNkA",
        "outputId": "4d1ef8b0-1953-41c8-b7c9-28e7ac508b86"
      },
      "execution_count": 10,
      "outputs": [
        {
          "output_type": "execute_result",
          "data": {
            "text/plain": [
              "array([[ 16.,  18.,  -7.,  20.,   4.],\n",
              "       [ 12.,  13.,   0.,  10.,   3.],\n",
              "       [ -8.,  -8.,   5., -11.,   4.],\n",
              "       [  4.,   5.,  -1.,   2.,   3.],\n",
              "       [ -4.,  -9.,  31., -31.,  -1.]])"
            ]
          },
          "metadata": {},
          "execution_count": 10
        }
      ]
    },
    {
      "cell_type": "code",
      "source": [
        "j=1\n",
        "k=np.argmax(np.abs(A[j:,j]))+j\n",
        "k"
      ],
      "metadata": {
        "colab": {
          "base_uri": "https://localhost:8080/"
        },
        "id": "H2Tw7wZXv0zt",
        "outputId": "ecb6a5f9-5e8d-44e2-a271-95b893bcf058"
      },
      "execution_count": 11,
      "outputs": [
        {
          "output_type": "execute_result",
          "data": {
            "text/plain": [
              "np.int64(1)"
            ]
          },
          "metadata": {},
          "execution_count": 11
        }
      ]
    },
    {
      "cell_type": "code",
      "source": [
        "\n",
        "def Permutaciones(A,b):\n",
        "  U=np.copy(A)\n",
        "  x=np.copy(b)\n",
        "  P=np.eye(A.shape[0])\n",
        "\n",
        "  for j in range(A.shape[0]):\n",
        "    k=np.argmax(np.abs(A[j:,j]))+j\n",
        "    U[[j,k]]=U[[k,j]]\n",
        "    P[[j,k]]=P[[k,j]]\n",
        "    x[[j,k]]=x[[k,j]]\n",
        "\n",
        "  return P,U,x"
      ],
      "metadata": {
        "id": "S76EeYRev5TB"
      },
      "execution_count": 12,
      "outputs": []
    },
    {
      "cell_type": "code",
      "source": [
        "P,U,x=Permutaciones(A,b)\n",
        "U"
      ],
      "metadata": {
        "colab": {
          "base_uri": "https://localhost:8080/"
        },
        "id": "5fFRX-VYv9bi",
        "outputId": "7f780743-dce4-458f-964c-3bc5425880b5"
      },
      "execution_count": 13,
      "outputs": [
        {
          "output_type": "execute_result",
          "data": {
            "text/plain": [
              "array([[ 16.,  18.,  -7.,  20.,   4.],\n",
              "       [ 12.,  13.,   0.,  10.,   3.],\n",
              "       [ -4.,  -9.,  31., -31.,  -1.],\n",
              "       [ -8.,  -8.,   5., -11.,   4.],\n",
              "       [  4.,   5.,  -1.,   2.,   3.]])"
            ]
          },
          "metadata": {},
          "execution_count": 13
        }
      ]
    },
    {
      "cell_type": "code",
      "source": [
        "def Solver_LU_Pivot_Partial(A,b):\n",
        "    P,Ap,bp=Permutaciones(A,b)\n",
        "    x=SolverLU(Ap,bp)\n",
        "\n",
        "    return x\n"
      ],
      "metadata": {
        "id": "gWjlVXyFwATY"
      },
      "execution_count": 14,
      "outputs": []
    },
    {
      "cell_type": "code",
      "source": [
        "SOl=Solver_LU_Pivot_Partial(A,b)\n",
        "print(\"La solucion es: \",SOl)\n",
        "print(\"La solucion analítica es: \",LA.solve(A,b))"
      ],
      "metadata": {
        "colab": {
          "base_uri": "https://localhost:8080/"
        },
        "id": "UcB843gQwEFV",
        "outputId": "81dcd380-bc8f-4a15-d7ea-ac9e520fe27e"
      },
      "execution_count": 15,
      "outputs": [
        {
          "output_type": "stream",
          "name": "stdout",
          "text": [
            "La solucion es:  [-180.47083333  210.55         -0.23333333  -34.8         -43.5       ]\n",
            "La solucion analítica es:  [[-180.47083333]\n",
            " [ 210.55      ]\n",
            " [  -0.23333333]\n",
            " [ -34.8       ]\n",
            " [ -43.5       ]]\n"
          ]
        },
        {
          "output_type": "stream",
          "name": "stderr",
          "text": [
            "<ipython-input-3-6e7392762ea7>:9: DeprecationWarning: Conversion of an array with ndim > 0 to a scalar is deprecated, and will error in future. Ensure you extract a single element from your array before performing this operation. (Deprecated NumPy 1.25.)\n",
            "  x[i] = (b[i] - SumCum) / Mat[i, i]\n"
          ]
        }
      ]
    },
    {
      "cell_type": "markdown",
      "source": [
        "**Factorización LU con pivoteo total**"
      ],
      "metadata": {
        "id": "97029-z4w2i9"
      }
    },
    {
      "cell_type": "code",
      "source": [
        "def Permutaciones(A, b):\n",
        "    n = A.shape[0]  # Tamaño de la matriz (n x n)\n",
        "    U = np.copy(A)  # Copia de la matriz A para no modificarla directamente\n",
        "    x = np.copy(b)  # Copia del vector b\n",
        "    P = np.eye(n)   # Matriz de permutación de filas (inicialmente identidad)\n",
        "    Q = np.eye(n)   # Matriz de permutación de columnas (inicialmente identidad)\n",
        "\n",
        "    for k in range(n - 1):\n",
        "        # --- PASO 1: Encontrar el pivote máximo en la submatriz U[k:, k:] ---\n",
        "        # np.abs(U[k:, k:]): Valores absolutos de la submatriz desde (k,k) hasta el final\n",
        "        # np.argmax(...): Índice lineal del elemento con mayor valor absoluto (en arreglo aplanado)\n",
        "        # np.unravel_index(...): Convierte el índice lineal a coordenadas (fila, columna) en la submatriz\n",
        "        max_row, max_col = np.unravel_index(np.argmax(np.abs(U[k:, k:])), (n - k, n - k))\n",
        "\n",
        "        # Ajustar índices para referenciar la posición en la matriz original U (no solo la submatriz)\n",
        "        max_row += k\n",
        "        max_col += k\n",
        "\n",
        "        # --- PASO 2: Intercambiar filas para llevar el pivote a la posición (k,k) ---\n",
        "        # Intercambia filas en U\n",
        "        U[[k, max_row]] = U[[max_row, k]]\n",
        "        # Intercambia filas en la matriz de permutación P\n",
        "        P[[k, max_row]] = P[[max_row, k]]\n",
        "        # Intercambia elementos en el vector x\n",
        "        x[[k, max_row]] = x[[max_row, k]]\n",
        "\n",
        "        # --- PASO 3: Intercambiar columnas para optimizar la factorización ---\n",
        "        # Intercambia columnas en U\n",
        "        U[:, [k, max_col]] = U[:, [max_col, k]]\n",
        "        # Intercambia columnas en la matriz de permutación Q\n",
        "        Q[:, [k, max_col]] = Q[:, [max_col, k]]\n",
        "\n",
        "    return P, Q, U, x  # Devuelve: Matrices de permutación, matriz triangular, y vector modificado"
      ],
      "metadata": {
        "id": "QFk9xcmsw8jU"
      },
      "execution_count": 17,
      "outputs": []
    },
    {
      "cell_type": "code",
      "source": [
        "P,Q,U,x=Permutaciones(A,b)\n",
        "U"
      ],
      "metadata": {
        "colab": {
          "base_uri": "https://localhost:8080/"
        },
        "id": "1qW4vDSmxQKC",
        "outputId": "a5a82c75-94ba-473e-e3ca-0d4482ef56dc"
      },
      "execution_count": 18,
      "outputs": [
        {
          "output_type": "execute_result",
          "data": {
            "text/plain": [
              "array([[ 31., -31.,  -9.,  -4.,  -1.],\n",
              "       [ -7.,  20.,  18.,  16.,   4.],\n",
              "       [  0.,  10.,  13.,  12.,   3.],\n",
              "       [  5., -11.,  -8.,  -8.,   4.],\n",
              "       [ -1.,   2.,   5.,   4.,   3.]])"
            ]
          },
          "metadata": {},
          "execution_count": 18
        }
      ]
    },
    {
      "cell_type": "code",
      "source": [
        "def Solver_LU_Pivot_Total(A,b):\n",
        "    P,Q,A_g,b_g=Permutaciones(A,b)\n",
        "    x=SolverLU(A_g,b_g)\n",
        "    x=Q@x\n",
        "\n",
        "    return x"
      ],
      "metadata": {
        "id": "j9k6nsfcxXpe"
      },
      "execution_count": 19,
      "outputs": []
    },
    {
      "cell_type": "code",
      "source": [
        "SOl=Solver_LU_Pivot_Total(A,b)\n",
        "print(\"La solucion es: \",SOl)\n",
        "print(\"La solucion analítica es: \",LA.solve(A,b))"
      ],
      "metadata": {
        "colab": {
          "base_uri": "https://localhost:8080/"
        },
        "id": "1B4DZS4Nxao4",
        "outputId": "f811e697-1d65-4c17-9bdc-3b786ed99a56"
      },
      "execution_count": 20,
      "outputs": [
        {
          "output_type": "stream",
          "name": "stdout",
          "text": [
            "La solucion es:  [1. 2. 3. 4. 5.]\n",
            "La solucion analítica es:  [[1.]\n",
            " [2.]\n",
            " [3.]\n",
            " [4.]\n",
            " [5.]]\n"
          ]
        },
        {
          "output_type": "stream",
          "name": "stderr",
          "text": [
            "<ipython-input-3-6e7392762ea7>:9: DeprecationWarning: Conversion of an array with ndim > 0 to a scalar is deprecated, and will error in future. Ensure you extract a single element from your array before performing this operation. (Deprecated NumPy 1.25.)\n",
            "  x[i] = (b[i] - SumCum) / Mat[i, i]\n"
          ]
        }
      ]
    }
  ]
}