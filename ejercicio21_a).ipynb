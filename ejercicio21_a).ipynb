{
  "nbformat": 4,
  "nbformat_minor": 0,
  "metadata": {
    "colab": {
      "provenance": [],
      "authorship_tag": "ABX9TyMiAt2wbvh4tKZ5DDFHOTQR",
      "include_colab_link": true
    },
    "kernelspec": {
      "name": "python3",
      "display_name": "Python 3"
    },
    "language_info": {
      "name": "python"
    }
  },
  "cells": [
    {
      "cell_type": "markdown",
      "metadata": {
        "id": "view-in-github",
        "colab_type": "text"
      },
      "source": [
        "<a href=\"https://colab.research.google.com/github/Paoarlett10/Tarea2/blob/main/ejercicio21_a).ipynb\" target=\"_parent\"><img src=\"https://colab.research.google.com/assets/colab-badge.svg\" alt=\"Open In Colab\"/></a>"
      ]
    },
    {
      "cell_type": "markdown",
      "source": [
        "# Ejercicio 21.a)\n",
        "Vazquez Jimenez Arlett Paola / 320162033\n"
      ],
      "metadata": {
        "id": "Mesi4z0IoABC"
      }
    },
    {
      "cell_type": "markdown",
      "source": [
        "**Factorización LU**\n"
      ],
      "metadata": {
        "id": "4f0WURg2pfC8"
      }
    },
    {
      "cell_type": "code",
      "source": [
        "\n",
        "import numpy as np\n",
        "from numpy import linalg as LA"
      ],
      "metadata": {
        "id": "VoYbjX2QpeSc"
      },
      "execution_count": null,
      "outputs": []
    },
    {
      "cell_type": "code",
      "execution_count": 35,
      "metadata": {
        "id": "lsLv97s9ntOQ"
      },
      "outputs": [],
      "source": [
        "#Inciso a)\n",
        "A=np.array([[4.,-1.,3.],[-8.,4.,-7.],[12.,1.,8.]])\n",
        "b=np.array([[-8.],[19.],[-19.]])\n"
      ]
    },
    {
      "cell_type": "code",
      "source": [
        "def SustitucionDelante(Mat, b):\n",
        "    n = Mat.shape[0]\n",
        "    x = np.zeros(n)\n",
        "\n",
        "    for i in range(n):\n",
        "        SumCum = 0.0\n",
        "        for j in range(i):\n",
        "            SumCum += Mat[i, j] * x[j]\n",
        "        x[i] = (b[i] - SumCum) / Mat[i, i]\n",
        "\n",
        "    return x"
      ],
      "metadata": {
        "id": "VgvOayu5rOqa"
      },
      "execution_count": null,
      "outputs": []
    },
    {
      "cell_type": "code",
      "source": [
        "\n",
        "def SustitucionAtras(Mat, b):\n",
        "    n = Mat.shape[0]\n",
        "    x = np.zeros(n)\n",
        "\n",
        "    for i in range(n-1, -1, -1):\n",
        "        SumCum = 0.0\n",
        "        for j in range(i+1, n):\n",
        "            SumCum += Mat[i, j] * x[j]\n",
        "        x[i] = (b[i] - SumCum) / Mat[i, i]\n",
        "\n",
        "    return x\n"
      ],
      "metadata": {
        "id": "Ljsyv3TlrVNr"
      },
      "execution_count": null,
      "outputs": []
    },
    {
      "cell_type": "code",
      "source": [
        "def LU(A):\n",
        "  U=np.copy(A)\n",
        "  L=np.eye(A.shape[0])\n",
        "\n",
        "  for i in range(A.shape[0]):\n",
        "    Li=np.eye(A.shape[0])\n",
        "    for j in range(i+1,A.shape[0]):\n",
        "      Li[j,i]=-U[j,i]/U[i,i]\n",
        "      L[j,i]=U[j,i]/U[i,i]\n",
        "    U=Li@U\n",
        "  return L,U"
      ],
      "metadata": {
        "id": "2NZhelgOrcdZ"
      },
      "execution_count": null,
      "outputs": []
    },
    {
      "cell_type": "code",
      "source": [
        "\n",
        "def SolverLU(A,b):\n",
        "  L,U=LU(A)\n",
        "  # El sistema que se resuelve es Ly=b\n",
        "  y=SustitucionDelante(L, b)\n",
        "  # El sistema que se resuelve es Ux=y\n",
        "  x=SustitucionAtras(U, y)\n",
        "\n",
        "  return x"
      ],
      "metadata": {
        "id": "8qnMeCPxrpml"
      },
      "execution_count": null,
      "outputs": []
    },
    {
      "cell_type": "code",
      "source": [
        "Sol=SolverLU(A,b)\n",
        "Sol"
      ],
      "metadata": {
        "colab": {
          "base_uri": "https://localhost:8080/"
        },
        "id": "iYw2WfeWrsUN",
        "outputId": "e67b17f5-892e-457d-d736-68d2cefba1ab"
      },
      "execution_count": null,
      "outputs": [
        {
          "output_type": "stream",
          "name": "stderr",
          "text": [
            "<ipython-input-8-6e7392762ea7>:9: DeprecationWarning: Conversion of an array with ndim > 0 to a scalar is deprecated, and will error in future. Ensure you extract a single element from your array before performing this operation. (Deprecated NumPy 1.25.)\n",
            "  x[i] = (b[i] - SumCum) / Mat[i, i]\n"
          ]
        },
        {
          "output_type": "execute_result",
          "data": {
            "text/plain": [
              "array([-1.,  1., -1.])"
            ]
          },
          "metadata": {},
          "execution_count": 12
        }
      ]
    },
    {
      "cell_type": "code",
      "source": [
        "LA.solve(A,b)"
      ],
      "metadata": {
        "colab": {
          "base_uri": "https://localhost:8080/"
        },
        "id": "nQQWyEbAryAS",
        "outputId": "4af38bfb-2bda-48d3-9541-85336aff7826"
      },
      "execution_count": null,
      "outputs": [
        {
          "output_type": "execute_result",
          "data": {
            "text/plain": [
              "array([[-1.],\n",
              "       [ 1.],\n",
              "       [-1.]])"
            ]
          },
          "metadata": {},
          "execution_count": 13
        }
      ]
    },
    {
      "cell_type": "markdown",
      "source": [
        "**Factorización LU con pivoteo parcial**\n"
      ],
      "metadata": {
        "id": "7m4E1KhOsgd-"
      }
    },
    {
      "cell_type": "code",
      "source": [
        "import numpy as np\n",
        "from numpy import linalg as LA\n",
        "A\n"
      ],
      "metadata": {
        "id": "7pQPX898smE3",
        "colab": {
          "base_uri": "https://localhost:8080/"
        },
        "outputId": "9c7df6c9-03f4-4f6b-b7d0-43ce3e6b6b0f"
      },
      "execution_count": 28,
      "outputs": [
        {
          "output_type": "execute_result",
          "data": {
            "text/plain": [
              "array([[ 4., -1.,  3.],\n",
              "       [-8.,  4., -7.],\n",
              "       [12.,  1.,  8.]])"
            ]
          },
          "metadata": {},
          "execution_count": 28
        }
      ]
    },
    {
      "cell_type": "code",
      "source": [
        "\n",
        "A[[0,2]]=A[[2,0]]\n",
        "A"
      ],
      "metadata": {
        "colab": {
          "base_uri": "https://localhost:8080/"
        },
        "id": "0yHwACWPvNkA",
        "outputId": "b8f0314b-cce2-4cff-f385-c60bbfef4563"
      },
      "execution_count": 29,
      "outputs": [
        {
          "output_type": "execute_result",
          "data": {
            "text/plain": [
              "array([[12.,  1.,  8.],\n",
              "       [-8.,  4., -7.],\n",
              "       [ 4., -1.,  3.]])"
            ]
          },
          "metadata": {},
          "execution_count": 29
        }
      ]
    },
    {
      "cell_type": "code",
      "source": [
        "j=1\n",
        "k=np.argmax(np.abs(A[j:,j]))+j\n",
        "k"
      ],
      "metadata": {
        "colab": {
          "base_uri": "https://localhost:8080/"
        },
        "id": "H2Tw7wZXv0zt",
        "outputId": "2ed1b69c-4576-4253-8765-0c400cfeec41"
      },
      "execution_count": 30,
      "outputs": [
        {
          "output_type": "execute_result",
          "data": {
            "text/plain": [
              "np.int64(1)"
            ]
          },
          "metadata": {},
          "execution_count": 30
        }
      ]
    },
    {
      "cell_type": "code",
      "source": [
        "\n",
        "def Permutaciones(A,b):\n",
        "  U=np.copy(A)\n",
        "  x=np.copy(b)\n",
        "  P=np.eye(A.shape[0])\n",
        "\n",
        "  for j in range(A.shape[0]):\n",
        "    k=np.argmax(np.abs(A[j:,j]))+j\n",
        "    U[[j,k]]=U[[k,j]]\n",
        "    P[[j,k]]=P[[k,j]]\n",
        "    x[[j,k]]=x[[k,j]]\n",
        "\n",
        "  return P,U,x"
      ],
      "metadata": {
        "id": "S76EeYRev5TB"
      },
      "execution_count": 31,
      "outputs": []
    },
    {
      "cell_type": "code",
      "source": [
        "P,U,x=Permutaciones(A,b)\n",
        "U"
      ],
      "metadata": {
        "colab": {
          "base_uri": "https://localhost:8080/"
        },
        "id": "5fFRX-VYv9bi",
        "outputId": "ca6b4d45-f425-4564-8c2f-c51fde588923"
      },
      "execution_count": 32,
      "outputs": [
        {
          "output_type": "execute_result",
          "data": {
            "text/plain": [
              "array([[12.,  1.,  8.],\n",
              "       [-8.,  4., -7.],\n",
              "       [ 4., -1.,  3.]])"
            ]
          },
          "metadata": {},
          "execution_count": 32
        }
      ]
    },
    {
      "cell_type": "code",
      "source": [
        "def Solver_LU_Pivot_Partial(A,b):\n",
        "    P,Ap,bp=Permutaciones(A,b)\n",
        "    x=SolverLU(Ap,bp)\n",
        "\n",
        "    return x\n",
        ""
      ],
      "metadata": {
        "id": "gWjlVXyFwATY"
      },
      "execution_count": 33,
      "outputs": []
    },
    {
      "cell_type": "code",
      "source": [
        "SOl=Solver_LU_Pivot_Partial(A,b)\n",
        "print(\"La solucion es: \",SOl)\n",
        "print(\"La solucion analítica es: \",LA.solve(A,b))"
      ],
      "metadata": {
        "colab": {
          "base_uri": "https://localhost:8080/"
        },
        "id": "UcB843gQwEFV",
        "outputId": "994c4ad6-0635-4ac7-cd42-dcb32a64e6c8"
      },
      "execution_count": 34,
      "outputs": [
        {
          "output_type": "stream",
          "name": "stdout",
          "text": [
            "La solucion es:  [-61.5  34.   87. ]\n",
            "La solucion analítica es:  [[-61.5]\n",
            " [ 34. ]\n",
            " [ 87. ]]\n"
          ]
        },
        {
          "output_type": "stream",
          "name": "stderr",
          "text": [
            "<ipython-input-8-6e7392762ea7>:9: DeprecationWarning: Conversion of an array with ndim > 0 to a scalar is deprecated, and will error in future. Ensure you extract a single element from your array before performing this operation. (Deprecated NumPy 1.25.)\n",
            "  x[i] = (b[i] - SumCum) / Mat[i, i]\n"
          ]
        }
      ]
    },
    {
      "cell_type": "markdown",
      "source": [
        "**Factorización LU con pivoteo total**"
      ],
      "metadata": {
        "id": "97029-z4w2i9"
      }
    },
    {
      "cell_type": "code",
      "source": [
        "def Permutaciones(A, b):\n",
        "    n = A.shape[0]  # Tamaño de la matriz (n x n)\n",
        "    U = np.copy(A)  # Copia de la matriz A para no modificarla directamente\n",
        "    x = np.copy(b)  # Copia del vector b\n",
        "    P = np.eye(n)   # Matriz de permutación de filas (inicialmente identidad)\n",
        "    Q = np.eye(n)   # Matriz de permutación de columnas (inicialmente identidad)\n",
        "\n",
        "    for k in range(n - 1):\n",
        "        # --- PASO 1: Encontrar el pivote máximo en la submatriz U[k:, k:] ---\n",
        "        # np.abs(U[k:, k:]): Valores absolutos de la submatriz desde (k,k) hasta el final\n",
        "        # np.argmax(...): Índice lineal del elemento con mayor valor absoluto (en arreglo aplanado)\n",
        "        # np.unravel_index(...): Convierte el índice lineal a coordenadas (fila, columna) en la submatriz\n",
        "        max_row, max_col = np.unravel_index(np.argmax(np.abs(U[k:, k:])), (n - k, n - k))\n",
        "\n",
        "        # Ajustar índices para referenciar la posición en la matriz original U (no solo la submatriz)\n",
        "        max_row += k\n",
        "        max_col += k\n",
        "\n",
        "        # --- PASO 2: Intercambiar filas para llevar el pivote a la posición (k,k) ---\n",
        "        # Intercambia filas en U\n",
        "        U[[k, max_row]] = U[[max_row, k]]\n",
        "        # Intercambia filas en la matriz de permutación P\n",
        "        P[[k, max_row]] = P[[max_row, k]]\n",
        "        # Intercambia elementos en el vector x\n",
        "        x[[k, max_row]] = x[[max_row, k]]\n",
        "\n",
        "        # --- PASO 3: Intercambiar columnas para optimizar la factorización ---\n",
        "        # Intercambia columnas en U\n",
        "        U[:, [k, max_col]] = U[:, [max_col, k]]\n",
        "        # Intercambia columnas en la matriz de permutación Q\n",
        "        Q[:, [k, max_col]] = Q[:, [max_col, k]]\n",
        "\n",
        "    return P, Q, U, x  # Devuelve: Matrices de permutación, matriz triangular, y vector modificado"
      ],
      "metadata": {
        "id": "QFk9xcmsw8jU"
      },
      "execution_count": 36,
      "outputs": []
    },
    {
      "cell_type": "code",
      "source": [
        "P,Q,U,x=Permutaciones(A,b)\n",
        "U"
      ],
      "metadata": {
        "colab": {
          "base_uri": "https://localhost:8080/"
        },
        "id": "1qW4vDSmxQKC",
        "outputId": "ea4db99e-41b7-475c-b313-de6409128b7f"
      },
      "execution_count": 37,
      "outputs": [
        {
          "output_type": "execute_result",
          "data": {
            "text/plain": [
              "array([[12.,  8.,  1.],\n",
              "       [-8., -7.,  4.],\n",
              "       [ 4.,  3., -1.]])"
            ]
          },
          "metadata": {},
          "execution_count": 37
        }
      ]
    },
    {
      "cell_type": "code",
      "source": [
        "def Solver_LU_Pivot_Total(A,b):\n",
        "    P,Q,A_g,b_g=Permutaciones(A,b)\n",
        "    x=SolverLU(A_g,b_g)\n",
        "    x=Q@x\n",
        "\n",
        "    return x"
      ],
      "metadata": {
        "id": "j9k6nsfcxXpe"
      },
      "execution_count": 38,
      "outputs": []
    },
    {
      "cell_type": "code",
      "source": [
        "SOl=Solver_LU_Pivot_Total(A,b)\n",
        "print(\"La solucion es: \",SOl)\n",
        "print(\"La solucion analítica es: \",LA.solve(A,b))"
      ],
      "metadata": {
        "colab": {
          "base_uri": "https://localhost:8080/"
        },
        "id": "1B4DZS4Nxao4",
        "outputId": "b8c44dd1-8591-4d5f-cc76-f7a374cf75d8"
      },
      "execution_count": 39,
      "outputs": [
        {
          "output_type": "stream",
          "name": "stdout",
          "text": [
            "La solucion es:  [-1.  1. -1.]\n",
            "La solucion analítica es:  [[-1.]\n",
            " [ 1.]\n",
            " [-1.]]\n"
          ]
        },
        {
          "output_type": "stream",
          "name": "stderr",
          "text": [
            "<ipython-input-8-6e7392762ea7>:9: DeprecationWarning: Conversion of an array with ndim > 0 to a scalar is deprecated, and will error in future. Ensure you extract a single element from your array before performing this operation. (Deprecated NumPy 1.25.)\n",
            "  x[i] = (b[i] - SumCum) / Mat[i, i]\n"
          ]
        }
      ]
    }
  ]
}