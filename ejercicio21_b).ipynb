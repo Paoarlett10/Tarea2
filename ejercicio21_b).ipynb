{
  "nbformat": 4,
  "nbformat_minor": 0,
  "metadata": {
    "colab": {
      "provenance": [],
      "authorship_tag": "ABX9TyN44a6qo4jr6KNOKNY1rsUF",
      "include_colab_link": true
    },
    "kernelspec": {
      "name": "python3",
      "display_name": "Python 3"
    },
    "language_info": {
      "name": "python"
    }
  },
  "cells": [
    {
      "cell_type": "markdown",
      "metadata": {
        "id": "view-in-github",
        "colab_type": "text"
      },
      "source": [
        "<a href=\"https://colab.research.google.com/github/Paoarlett10/Tarea2/blob/main/ejercicio21_b).ipynb\" target=\"_parent\"><img src=\"https://colab.research.google.com/assets/colab-badge.svg\" alt=\"Open In Colab\"/></a>"
      ]
    },
    {
      "cell_type": "markdown",
      "source": [
        "# Ejercicio 21.b)\n",
        "Vazquez Jimenez Arlett Paola / 320162033\n"
      ],
      "metadata": {
        "id": "Mesi4z0IoABC"
      }
    },
    {
      "cell_type": "markdown",
      "source": [
        "**Factorización LU**\n"
      ],
      "metadata": {
        "id": "4f0WURg2pfC8"
      }
    },
    {
      "cell_type": "code",
      "source": [
        "\n",
        "import numpy as np\n",
        "from numpy import linalg as LA"
      ],
      "metadata": {
        "id": "VoYbjX2QpeSc"
      },
      "execution_count": 1,
      "outputs": []
    },
    {
      "cell_type": "code",
      "execution_count": 23,
      "metadata": {
        "id": "lsLv97s9ntOQ",
        "colab": {
          "base_uri": "https://localhost:8080/"
        },
        "outputId": "8e6e850b-0f89-4d5f-b9e4-a3f3aded1a1e"
      },
      "outputs": [
        {
          "output_type": "stream",
          "name": "stdout",
          "text": [
            "[[  1.   4.  -2.   1.]\n",
            " [ -2.  -4.  -3.   1.]\n",
            " [  1.  16. -17.   9.]\n",
            " [  2.   4.  -9.  -3.]]\n",
            "[[ 3.5]\n",
            " [-2.5]\n",
            " [15. ]\n",
            " [10.5]]\n"
          ]
        }
      ],
      "source": [
        "#Inciso b)\n",
        "import numpy as np\n",
        "A=np.array([[1.,4.,-2.,1.],[-2.,-4.,-3.,1.],[1.,16.,-17.,9.],[2.,4.,-9.,-3.]])\n",
        "b=np.array([[3.5],[-2.5],[15.],[10.5]])\n",
        "print(A)\n",
        "print(b)"
      ]
    },
    {
      "cell_type": "code",
      "source": [
        "def SustitucionDelante(Mat, b):\n",
        "    n = Mat.shape[0]\n",
        "    x = np.zeros(n)\n",
        "\n",
        "    for i in range(n):\n",
        "        SumCum = 0.0\n",
        "        for j in range(i):\n",
        "            SumCum += Mat[i, j] * x[j]\n",
        "        x[i] = (b[i] - SumCum) / Mat[i, i]\n",
        "\n",
        "    return x"
      ],
      "metadata": {
        "id": "VgvOayu5rOqa"
      },
      "execution_count": 9,
      "outputs": []
    },
    {
      "cell_type": "code",
      "source": [
        "\n",
        "def SustitucionAtras(Mat, b):\n",
        "    n = Mat.shape[0]\n",
        "    x = np.zeros(n)\n",
        "\n",
        "    for i in range(n-1, -1, -1):\n",
        "        SumCum = 0.0\n",
        "        for j in range(i+1, n):\n",
        "            SumCum += Mat[i, j] * x[j]\n",
        "        x[i] = (b[i] - SumCum) / Mat[i, i]\n",
        "\n",
        "    return x\n"
      ],
      "metadata": {
        "id": "Ljsyv3TlrVNr"
      },
      "execution_count": 10,
      "outputs": []
    },
    {
      "cell_type": "code",
      "source": [
        "def LU(A):\n",
        "  U=np.copy(A)\n",
        "  L=np.eye(A.shape[0])\n",
        "\n",
        "  for i in range(A.shape[0]):\n",
        "    Li=np.eye(A.shape[0])\n",
        "    for j in range(i+1,A.shape[0]):\n",
        "      Li[j,i]=-U[j,i]/U[i,i]\n",
        "      L[j,i]=U[j,i]/U[i,i]\n",
        "    U=Li@U\n",
        "  return L,U"
      ],
      "metadata": {
        "id": "2NZhelgOrcdZ"
      },
      "execution_count": 11,
      "outputs": []
    },
    {
      "cell_type": "code",
      "source": [
        "\n",
        "def SolverLU(A,b):\n",
        "  L,U=LU(A)\n",
        "  # El sistema que se resuelve es Ly=b\n",
        "  y=SustitucionDelante(L, b)\n",
        "  # El sistema que se resuelve es Ux=y\n",
        "  x=SustitucionAtras(U, y)\n",
        "\n",
        "  return x"
      ],
      "metadata": {
        "id": "8qnMeCPxrpml"
      },
      "execution_count": 12,
      "outputs": []
    },
    {
      "cell_type": "code",
      "source": [
        "Sol=SolverLU(A,b)\n",
        "Sol"
      ],
      "metadata": {
        "colab": {
          "base_uri": "https://localhost:8080/"
        },
        "id": "iYw2WfeWrsUN",
        "outputId": "bc1f9e01-be0f-4e71-a95d-1c1d38f0f930"
      },
      "execution_count": 13,
      "outputs": [
        {
          "output_type": "stream",
          "name": "stderr",
          "text": [
            "<ipython-input-9-6e7392762ea7>:9: DeprecationWarning: Conversion of an array with ndim > 0 to a scalar is deprecated, and will error in future. Ensure you extract a single element from your array before performing this operation. (Deprecated NumPy 1.25.)\n",
            "  x[i] = (b[i] - SumCum) / Mat[i, i]\n"
          ]
        },
        {
          "output_type": "execute_result",
          "data": {
            "text/plain": [
              "array([-0.5,  1. , -0.5, -1. ])"
            ]
          },
          "metadata": {},
          "execution_count": 13
        }
      ]
    },
    {
      "cell_type": "code",
      "source": [
        "LA.solve(A,b)"
      ],
      "metadata": {
        "colab": {
          "base_uri": "https://localhost:8080/"
        },
        "id": "nQQWyEbAryAS",
        "outputId": "627e8bd4-b72a-43da-c7b5-25eb0b101abc"
      },
      "execution_count": 14,
      "outputs": [
        {
          "output_type": "execute_result",
          "data": {
            "text/plain": [
              "array([[-0.5],\n",
              "       [ 1. ],\n",
              "       [-0.5],\n",
              "       [-1. ]])"
            ]
          },
          "metadata": {},
          "execution_count": 14
        }
      ]
    },
    {
      "cell_type": "markdown",
      "source": [
        "**Factorización LU con pivoteo parcial**\n"
      ],
      "metadata": {
        "id": "7m4E1KhOsgd-"
      }
    },
    {
      "cell_type": "code",
      "source": [
        "import numpy as np\n",
        "from numpy import linalg as LA\n",
        "A\n"
      ],
      "metadata": {
        "id": "7pQPX898smE3",
        "colab": {
          "base_uri": "https://localhost:8080/"
        },
        "outputId": "c111c491-4b1d-40a4-a2ee-8954685e741e"
      },
      "execution_count": 15,
      "outputs": [
        {
          "output_type": "execute_result",
          "data": {
            "text/plain": [
              "array([[  1.,   4.,  -2.,   1.],\n",
              "       [ -2.,  -4.,  -3.,   1.],\n",
              "       [  1.,  16., -17.,   9.],\n",
              "       [  2.,   4.,  -9.,  -3.]])"
            ]
          },
          "metadata": {},
          "execution_count": 15
        }
      ]
    },
    {
      "cell_type": "code",
      "source": [
        "\n",
        "A[[0,3]]=A[[3,0]]\n",
        "A"
      ],
      "metadata": {
        "colab": {
          "base_uri": "https://localhost:8080/"
        },
        "id": "0yHwACWPvNkA",
        "outputId": "44ee85b1-9118-4566-81f0-1662f4b72751"
      },
      "execution_count": 17,
      "outputs": [
        {
          "output_type": "execute_result",
          "data": {
            "text/plain": [
              "array([[  2.,   4.,  -9.,  -3.],\n",
              "       [ -2.,  -4.,  -3.,   1.],\n",
              "       [  1.,  16., -17.,   9.],\n",
              "       [  1.,   4.,  -2.,   1.]])"
            ]
          },
          "metadata": {},
          "execution_count": 17
        }
      ]
    },
    {
      "cell_type": "code",
      "source": [
        "j=1\n",
        "k=np.argmax(np.abs(A[j:,j]))+j\n",
        "k"
      ],
      "metadata": {
        "colab": {
          "base_uri": "https://localhost:8080/"
        },
        "id": "H2Tw7wZXv0zt",
        "outputId": "b23fa1f3-938e-420e-92bb-e3fcbc5bf867"
      },
      "execution_count": 18,
      "outputs": [
        {
          "output_type": "execute_result",
          "data": {
            "text/plain": [
              "np.int64(2)"
            ]
          },
          "metadata": {},
          "execution_count": 18
        }
      ]
    },
    {
      "cell_type": "code",
      "source": [
        "\n",
        "def Permutaciones(A,b):\n",
        "  U=np.copy(A)\n",
        "  x=np.copy(b)\n",
        "  P=np.eye(A.shape[0])\n",
        "\n",
        "  for j in range(A.shape[0]):\n",
        "    k=np.argmax(np.abs(A[j:,j]))+j\n",
        "    U[[j,k]]=U[[k,j]]\n",
        "    P[[j,k]]=P[[k,j]]\n",
        "    x[[j,k]]=x[[k,j]]\n",
        "\n",
        "  return P,U,x"
      ],
      "metadata": {
        "id": "S76EeYRev5TB"
      },
      "execution_count": 19,
      "outputs": []
    },
    {
      "cell_type": "code",
      "source": [
        "P,U,x=Permutaciones(A,b)\n",
        "U"
      ],
      "metadata": {
        "colab": {
          "base_uri": "https://localhost:8080/"
        },
        "id": "5fFRX-VYv9bi",
        "outputId": "7252df55-bbbe-473e-ecf7-2214bb878ecd"
      },
      "execution_count": 20,
      "outputs": [
        {
          "output_type": "execute_result",
          "data": {
            "text/plain": [
              "array([[  2.,   4.,  -9.,  -3.],\n",
              "       [  1.,  16., -17.,   9.],\n",
              "       [ -2.,  -4.,  -3.,   1.],\n",
              "       [  1.,   4.,  -2.,   1.]])"
            ]
          },
          "metadata": {},
          "execution_count": 20
        }
      ]
    },
    {
      "cell_type": "code",
      "source": [
        "def Solver_LU_Pivot_Partial(A,b):\n",
        "    P,Ap,bp=Permutaciones(A,b)\n",
        "    x=SolverLU(Ap,bp)\n",
        "\n",
        "    return x\n"
      ],
      "metadata": {
        "id": "gWjlVXyFwATY"
      },
      "execution_count": 21,
      "outputs": []
    },
    {
      "cell_type": "code",
      "source": [
        "SOl=Solver_LU_Pivot_Partial(A,b)\n",
        "print(\"La solucion es: \",SOl)\n",
        "print(\"La solucion analítica es: \",LA.solve(A,b))"
      ],
      "metadata": {
        "colab": {
          "base_uri": "https://localhost:8080/"
        },
        "id": "UcB843gQwEFV",
        "outputId": "e151e590-21c8-4c32-d5a5-602bba82412f"
      },
      "execution_count": 22,
      "outputs": [
        {
          "output_type": "stream",
          "name": "stdout",
          "text": [
            "La solucion es:  [ 63.95833333 -21.82291667  -4.29166667  25.25      ]\n",
            "La solucion analítica es:  [[ 63.95833333]\n",
            " [-21.82291667]\n",
            " [ -4.29166667]\n",
            " [ 25.25      ]]\n"
          ]
        },
        {
          "output_type": "stream",
          "name": "stderr",
          "text": [
            "<ipython-input-9-6e7392762ea7>:9: DeprecationWarning: Conversion of an array with ndim > 0 to a scalar is deprecated, and will error in future. Ensure you extract a single element from your array before performing this operation. (Deprecated NumPy 1.25.)\n",
            "  x[i] = (b[i] - SumCum) / Mat[i, i]\n"
          ]
        }
      ]
    },
    {
      "cell_type": "markdown",
      "source": [
        "**Factorización LU con pivoteo total**"
      ],
      "metadata": {
        "id": "97029-z4w2i9"
      }
    },
    {
      "cell_type": "code",
      "source": [
        "def Permutaciones(A, b):\n",
        "    n = A.shape[0]  # Tamaño de la matriz (n x n)\n",
        "    U = np.copy(A)  # Copia de la matriz A para no modificarla directamente\n",
        "    x = np.copy(b)  # Copia del vector b\n",
        "    P = np.eye(n)   # Matriz de permutación de filas (inicialmente identidad)\n",
        "    Q = np.eye(n)   # Matriz de permutación de columnas (inicialmente identidad)\n",
        "\n",
        "    for k in range(n - 1):\n",
        "        # --- PASO 1: Encontrar el pivote máximo en la submatriz U[k:, k:] ---\n",
        "        # np.abs(U[k:, k:]): Valores absolutos de la submatriz desde (k,k) hasta el final\n",
        "        # np.argmax(...): Índice lineal del elemento con mayor valor absoluto (en arreglo aplanado)\n",
        "        # np.unravel_index(...): Convierte el índice lineal a coordenadas (fila, columna) en la submatriz\n",
        "        max_row, max_col = np.unravel_index(np.argmax(np.abs(U[k:, k:])), (n - k, n - k))\n",
        "\n",
        "        # Ajustar índices para referenciar la posición en la matriz original U (no solo la submatriz)\n",
        "        max_row += k\n",
        "        max_col += k\n",
        "\n",
        "        # --- PASO 2: Intercambiar filas para llevar el pivote a la posición (k,k) ---\n",
        "        # Intercambia filas en U\n",
        "        U[[k, max_row]] = U[[max_row, k]]\n",
        "        # Intercambia filas en la matriz de permutación P\n",
        "        P[[k, max_row]] = P[[max_row, k]]\n",
        "        # Intercambia elementos en el vector x\n",
        "        x[[k, max_row]] = x[[max_row, k]]\n",
        "\n",
        "        # --- PASO 3: Intercambiar columnas para optimizar la factorización ---\n",
        "        # Intercambia columnas en U\n",
        "        U[:, [k, max_col]] = U[:, [max_col, k]]\n",
        "        # Intercambia columnas en la matriz de permutación Q\n",
        "        Q[:, [k, max_col]] = Q[:, [max_col, k]]\n",
        "\n",
        "    return P, Q, U, x  # Devuelve: Matrices de permutación, matriz triangular, y vector modificado"
      ],
      "metadata": {
        "id": "QFk9xcmsw8jU"
      },
      "execution_count": 24,
      "outputs": []
    },
    {
      "cell_type": "code",
      "source": [
        "P,Q,U,x=Permutaciones(A,b)\n",
        "U"
      ],
      "metadata": {
        "colab": {
          "base_uri": "https://localhost:8080/"
        },
        "id": "1qW4vDSmxQKC",
        "outputId": "1b395839-1318-4b58-bb63-f4b172e6b873"
      },
      "execution_count": 25,
      "outputs": [
        {
          "output_type": "execute_result",
          "data": {
            "text/plain": [
              "array([[-17.,  16.,   9.,   1.],\n",
              "       [ -3.,  -4.,   1.,  -2.],\n",
              "       [ -9.,   4.,  -3.,   2.],\n",
              "       [ -2.,   4.,   1.,   1.]])"
            ]
          },
          "metadata": {},
          "execution_count": 25
        }
      ]
    },
    {
      "cell_type": "code",
      "source": [
        "def Solver_LU_Pivot_Total(A,b):\n",
        "    P,Q,A_g,b_g=Permutaciones(A,b)\n",
        "    x=SolverLU(A_g,b_g)\n",
        "    x=Q@x\n",
        "\n",
        "    return x"
      ],
      "metadata": {
        "id": "j9k6nsfcxXpe"
      },
      "execution_count": 26,
      "outputs": []
    },
    {
      "cell_type": "code",
      "source": [
        "SOl=Solver_LU_Pivot_Total(A,b)\n",
        "print(\"La solucion es: \",SOl)\n",
        "print(\"La solucion analítica es: \",LA.solve(A,b))"
      ],
      "metadata": {
        "colab": {
          "base_uri": "https://localhost:8080/"
        },
        "id": "1B4DZS4Nxao4",
        "outputId": "7b29a8e5-b557-4964-e65b-a8ad3b775f91"
      },
      "execution_count": 28,
      "outputs": [
        {
          "output_type": "stream",
          "name": "stdout",
          "text": [
            "La solucion es:  [-0.5  1.  -0.5 -1. ]\n",
            "La solucion analítica es:  [[-0.5]\n",
            " [ 1. ]\n",
            " [-0.5]\n",
            " [-1. ]]\n"
          ]
        },
        {
          "output_type": "stream",
          "name": "stderr",
          "text": [
            "<ipython-input-9-6e7392762ea7>:9: DeprecationWarning: Conversion of an array with ndim > 0 to a scalar is deprecated, and will error in future. Ensure you extract a single element from your array before performing this operation. (Deprecated NumPy 1.25.)\n",
            "  x[i] = (b[i] - SumCum) / Mat[i, i]\n"
          ]
        }
      ]
    }
  ]
}